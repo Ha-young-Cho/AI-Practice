{
  "nbformat": 4,
  "nbformat_minor": 0,
  "metadata": {
    "colab": {
      "provenance": [],
      "gpuType": "T4"
    },
    "kernelspec": {
      "name": "python3",
      "display_name": "Python 3"
    },
    "language_info": {
      "name": "python"
    },
    "accelerator": "GPU",
    "gpuClass": "standard"
  },
  "cells": [
    {
      "cell_type": "code",
      "source": [
        "import torch\n",
        "import torch.nn as nn\n",
        "import torch.nn.functional as F\n",
        "\n",
        "# MLP 모델 정의\n",
        "class Net(nn.Module):\n",
        "    def __init__(self, dropout_rate=0.2):\n",
        "        super(Net, self).__init__()\n",
        "\n",
        "        self.l1 = nn.Linear(32 * 32 * 3, 2048) #입력층\n",
        "        self.bn1 = nn.BatchNorm1d(2048) #batch normalization\n",
        "        self.dropout1 = nn.Dropout(dropout_rate) #dropout\n",
        "        self.l2 = nn.Linear(2048, 1024) #은닉층1\n",
        "        self.bn2 = nn.BatchNorm1d(1024)\n",
        "        self.dropout2 = nn.Dropout(dropout_rate)\n",
        "        self.l3 = nn.Linear(1024, 512) #은닉층2\n",
        "        self.bn3 = nn.BatchNorm1d(512)\n",
        "        self.dropout3 = nn.Dropout(dropout_rate)\n",
        "        self.l4 = nn.Linear(512, 256) #은닉층3\n",
        "        self.bn4 = nn.BatchNorm1d(256)\n",
        "        self.dropout4 = nn.Dropout(dropout_rate)\n",
        "        self.l5 = nn.Linear(256, 10) #은닉층4\n",
        "\n",
        "    def forward(self, x):\n",
        "        #활성화 함수 적용\n",
        "        x = x.view(-1, 32 * 32 * 3) #input을 (batch_size, 32*32*3)으로 flatten\n",
        "        # x = self.bn1(F.relu(self.l1(x)))\n",
        "        # x = self.bn2(F.relu(self.l2(x)))\n",
        "        # x = self.bn3(F.relu(self.l3(x)))\n",
        "        # x = self.bn4(F.relu(self.l4(x)))\n",
        "        # x = self.l5(x)\n",
        "        x = self.dropout1(self.bn1(F.relu(self.l1(x)))) #dropout 적용 버전\n",
        "        x = self.dropout2(self.bn2(F.relu(self.l2(x))))\n",
        "        x = self.dropout3(self.bn3(F.relu(self.l3(x))))\n",
        "        x = self.dropout4(self.bn4(F.relu(self.l4(x))))\n",
        "        x = self.l5(x)\n",
        "        return x #output (batch_size, 10) 반환\n"
      ],
      "metadata": {
        "id": "4vK8zO3g8f83"
      },
      "execution_count": 58,
      "outputs": []
    },
    {
      "cell_type": "code",
      "source": [
        "from google.colab import drive\n",
        "drive.mount('/content/mai_drive')    # 구글드라이브 마운트\n",
        "\n",
        "device = 'cuda' if torch.cuda.is_available() else 'cpu'     # nvidia gpu / 아니면 cpu\n",
        "print(f'Training MNIST Model on {device}\\n{\"=\"*44}')"
      ],
      "metadata": {
        "id": "KLQpuyu28-sT",
        "colab": {
          "base_uri": "https://localhost:8080/"
        },
        "outputId": "b6e08aaa-4a63-4826-d283-78eae6807ab3"
      },
      "execution_count": 60,
      "outputs": [
        {
          "output_type": "stream",
          "name": "stdout",
          "text": [
            "Drive already mounted at /content/mai_drive; to attempt to forcibly remount, call drive.mount(\"/content/mai_drive\", force_remount=True).\n",
            "Training MNIST Model on cuda\n",
            "============================================\n"
          ]
        }
      ]
    },
    {
      "cell_type": "code",
      "source": [
        "from torchvision import datasets, transforms\n",
        "\n",
        "#이미지 데이터 전처리\n",
        "transform = transforms.Compose([\n",
        "     transforms.ToTensor(),\n",
        "     transforms.Normalize(mean=[0.485, 0.456, 0.406], std=[0.229, 0.224, 0.225])])"
      ],
      "metadata": {
        "id": "mYBf2ycQ9ITY"
      },
      "execution_count": 61,
      "outputs": []
    },
    {
      "cell_type": "code",
      "source": [
        "batch_size = 128"
      ],
      "metadata": {
        "id": "CKaPN0mt9p1H"
      },
      "execution_count": 62,
      "outputs": []
    },
    {
      "cell_type": "code",
      "source": [
        "# CIFAR10 데이터셋 다운로드 및 DataLoader 생성\n",
        "train_dataset = datasets.CIFAR10(root='/content/mai_drive/My Drive/mai1/CIFAR10_data/', \n",
        "                                        train=True, \n",
        "                                        transform=transform,\n",
        "                                        download=True)\n",
        "\n",
        "test_dataset = datasets.CIFAR10(root='/content/mai_drive/My Drive/mai1/CIFAR10_data/',\n",
        "                                        train=False,\n",
        "                                        transform=transform)\n",
        "\n",
        "from torch.utils import data\n",
        "\n",
        "train_loader = data.DataLoader(train_dataset, batch_size=batch_size,\n",
        "                                          shuffle=True, num_workers=2)\n",
        "\n",
        "\n",
        "test_loader = data.DataLoader(test_dataset, batch_size=batch_size,\n",
        "                                         shuffle=False, num_workers=2)"
      ],
      "metadata": {
        "id": "uYZXjo1X9RGf",
        "colab": {
          "base_uri": "https://localhost:8080/"
        },
        "outputId": "72ee19e6-2141-419a-d1d3-9f822f84df64"
      },
      "execution_count": 63,
      "outputs": [
        {
          "output_type": "stream",
          "name": "stdout",
          "text": [
            "Files already downloaded and verified\n"
          ]
        }
      ]
    },
    {
      "cell_type": "code",
      "source": [
        "train_dataset"
      ],
      "metadata": {
        "id": "hejTI5CYFFIU",
        "colab": {
          "base_uri": "https://localhost:8080/"
        },
        "outputId": "2cc968b8-d3cc-46d1-c115-b511d4714fca"
      },
      "execution_count": 64,
      "outputs": [
        {
          "output_type": "execute_result",
          "data": {
            "text/plain": [
              "Dataset CIFAR10\n",
              "    Number of datapoints: 50000\n",
              "    Root location: /content/mai_drive/My Drive/mai1/CIFAR10_data/\n",
              "    Split: Train\n",
              "    StandardTransform\n",
              "Transform: Compose(\n",
              "               ToTensor()\n",
              "               Normalize(mean=[0.485, 0.456, 0.406], std=[0.229, 0.224, 0.225])\n",
              "           )"
            ]
          },
          "metadata": {},
          "execution_count": 64
        }
      ]
    },
    {
      "cell_type": "code",
      "source": [
        "test_dataset"
      ],
      "metadata": {
        "id": "SUUjLJGrFMwH",
        "colab": {
          "base_uri": "https://localhost:8080/"
        },
        "outputId": "ae147f01-2af8-4dbc-d326-7423175f1431"
      },
      "execution_count": 65,
      "outputs": [
        {
          "output_type": "execute_result",
          "data": {
            "text/plain": [
              "Dataset CIFAR10\n",
              "    Number of datapoints: 10000\n",
              "    Root location: /content/mai_drive/My Drive/mai1/CIFAR10_data/\n",
              "    Split: Test\n",
              "    StandardTransform\n",
              "Transform: Compose(\n",
              "               ToTensor()\n",
              "               Normalize(mean=[0.485, 0.456, 0.406], std=[0.229, 0.224, 0.225])\n",
              "           )"
            ]
          },
          "metadata": {},
          "execution_count": 65
        }
      ]
    },
    {
      "cell_type": "code",
      "source": [
        "import matplotlib.pyplot as plt\n",
        "\n",
        "for i, (data, target) in enumerate(train_loader):\n",
        "  if i == 1:\n",
        "    break\n",
        "  plt.imshow(data[1].permute(1,2,0))\n",
        "  print(target[1])"
      ],
      "metadata": {
        "colab": {
          "base_uri": "https://localhost:8080/",
          "height": 467
        },
        "id": "brCSbkAg-JLV",
        "outputId": "37852db2-ce6d-44f1-e1ed-5796631cb268"
      },
      "execution_count": 77,
      "outputs": [
        {
          "output_type": "stream",
          "name": "stderr",
          "text": [
            "WARNING:matplotlib.image:Clipping input data to the valid range for imshow with RGB data ([0..1] for floats or [0..255] for integers).\n"
          ]
        },
        {
          "output_type": "stream",
          "name": "stdout",
          "text": [
            "tensor(2)\n"
          ]
        },
        {
          "output_type": "display_data",
          "data": {
            "text/plain": [
              "<Figure size 640x480 with 1 Axes>"
            ],
            "image/png": "[encoded data removed]"
          },
          "metadata": {}
        }
      ]
    },
    {
      "cell_type": "code",
      "source": [
        "#model = Net()\n",
        "model = Net(dropout_rate=0.2) #dropout 적용 버전\n",
        "model.to(device)\n",
        "\n",
        "from torch import optim\n",
        "\n",
        "# 손실 함수와 optimizer 정의\n",
        "criterion = nn.CrossEntropyLoss()\n",
        "optimizer = optim.SGD(model.parameters(), lr=0.01, momentum=0.75)\n",
        "#optimizer = optim.RMSprop(model.parameters(), lr=0.01, momentum=0.75)\n",
        "#optimizer = optim.Adam(model.parameters(), lr=0.01)\n",
        "#optimizer = optim.Adagrad(model.parameters(), lr=0.01)"
      ],
      "metadata": {
        "id": "kQhYwm7T9uyR"
      },
      "execution_count": 67,
      "outputs": []
    },
    {
      "cell_type": "code",
      "source": [
        "testmodel = Net()\n",
        "testmodel"
      ],
      "metadata": {
        "colab": {
          "base_uri": "https://localhost:8080/"
        },
        "id": "TROYB_xp-BsY",
        "outputId": "a16d2d4f-6735-4ab7-e668-0beeded8f293"
      },
      "execution_count": 59,
      "outputs": [
        {
          "output_type": "execute_result",
          "data": {
            "text/plain": [
              "Net(\n",
              "  (l1): Linear(in_features=3072, out_features=2048, bias=True)\n",
              "  (bn1): BatchNorm1d(2048, eps=1e-05, momentum=0.1, affine=True, track_running_stats=True)\n",
              "  (dropout1): Dropout(p=0.2, inplace=False)\n",
              "  (l2): Linear(in_features=2048, out_features=1024, bias=True)\n",
              "  (bn2): BatchNorm1d(1024, eps=1e-05, momentum=0.1, affine=True, track_running_stats=True)\n",
              "  (dropout2): Dropout(p=0.2, inplace=False)\n",
              "  (l3): Linear(in_features=1024, out_features=512, bias=True)\n",
              "  (bn3): BatchNorm1d(512, eps=1e-05, momentum=0.1, affine=True, track_running_stats=True)\n",
              "  (dropout3): Dropout(p=0.2, inplace=False)\n",
              "  (l4): Linear(in_features=512, out_features=256, bias=True)\n",
              "  (bn4): BatchNorm1d(256, eps=1e-05, momentum=0.1, affine=True, track_running_stats=True)\n",
              "  (dropout4): Dropout(p=0.2, inplace=False)\n",
              "  (l5): Linear(in_features=256, out_features=10, bias=True)\n",
              ")"
            ]
          },
          "metadata": {},
          "execution_count": 59
        }
      ]
    },
    {
      "cell_type": "code",
      "source": [
        "for i in model.parameters():\n",
        "  print(i)"
      ],
      "metadata": {
        "colab": {
          "base_uri": "https://localhost:8080/"
        },
        "id": "HkLl1CRb-Oci",
        "outputId": "a94272c2-3043-4621-fcfb-dd4adbdeda6c"
      },
      "execution_count": 68,
      "outputs": [
        {
          "output_type": "stream",
          "name": "stdout",
          "text": [
            "Parameter containing:\n",
            "tensor([[ 1.7388e-02, -1.1586e-02, -7.3518e-03,  ...,  9.1386e-04,\n",
            "         -1.1061e-02, -5.2808e-03],\n",
            "        [ 9.7528e-04,  3.8413e-03,  6.2769e-04,  ...,  1.2183e-02,\n",
            "          7.4504e-05, -7.8115e-03],\n",
            "        [ 9.0168e-03,  9.1059e-03,  1.0660e-02,  ...,  1.2456e-02,\n",
            "         -1.1869e-02, -1.0963e-02],\n",
            "        ...,\n",
            "        [ 2.7540e-03, -4.9200e-03, -1.0426e-02,  ..., -1.3033e-02,\n",
            "          1.7859e-02, -6.5316e-03],\n",
            "        [-5.3730e-03,  1.1660e-02,  3.5974e-03,  ...,  1.4663e-02,\n",
            "          9.2189e-03, -3.0953e-03],\n",
            "        [-1.1480e-03,  3.2907e-03,  2.0154e-03,  ..., -3.3174e-03,\n",
            "          1.5188e-02,  4.4263e-03]], device='cuda:0', requires_grad=True)\n",
            "Parameter containing:\n",
            "tensor([ 0.0032, -0.0002,  0.0052,  ..., -0.0029, -0.0061,  0.0111],\n",
            "       device='cuda:0', requires_grad=True)\n",
            "Parameter containing:\n",
            "tensor([1., 1., 1.,  ..., 1., 1., 1.], device='cuda:0', requires_grad=True)\n",
            "Parameter containing:\n",
            "tensor([0., 0., 0.,  ..., 0., 0., 0.], device='cuda:0', requires_grad=True)\n",
            "Parameter containing:\n",
            "tensor([[-1.4635e-02, -1.4904e-02,  1.0524e-02,  ..., -1.5232e-02,\n",
            "          8.4676e-03, -7.1177e-04],\n",
            "        [ 1.8721e-03, -4.2538e-03,  2.0899e-02,  ..., -2.0301e-02,\n",
            "          1.9869e-02, -8.5458e-03],\n",
            "        [ 1.0927e-02,  1.6414e-02, -3.8387e-03,  ...,  1.3308e-02,\n",
            "          1.3014e-02,  4.6987e-03],\n",
            "        ...,\n",
            "        [-1.5089e-02,  4.4650e-03,  1.6286e-02,  ..., -1.7549e-02,\n",
            "         -1.0853e-02, -5.9705e-03],\n",
            "        [-1.7662e-02,  2.9861e-05,  4.0338e-03,  ..., -1.4680e-02,\n",
            "         -1.5342e-02, -9.2626e-03],\n",
            "        [-1.2189e-02,  6.6328e-03, -1.1703e-02,  ..., -7.8047e-03,\n",
            "         -2.1651e-03, -1.4887e-02]], device='cuda:0', requires_grad=True)\n",
            "Parameter containing:\n",
            "tensor([ 0.0066,  0.0082, -0.0003,  ..., -0.0038, -0.0210, -0.0036],\n",
            "       device='cuda:0', requires_grad=True)\n",
            "Parameter containing:\n",
            "tensor([1., 1., 1.,  ..., 1., 1., 1.], device='cuda:0', requires_grad=True)\n",
            "Parameter containing:\n",
            "tensor([0., 0., 0.,  ..., 0., 0., 0.], device='cuda:0', requires_grad=True)\n",
            "Parameter containing:\n",
            "tensor([[-0.0304,  0.0204, -0.0274,  ..., -0.0087, -0.0289,  0.0312],\n",
            "        [ 0.0047, -0.0078,  0.0202,  ...,  0.0156,  0.0291,  0.0254],\n",
            "        [ 0.0042, -0.0235,  0.0275,  ..., -0.0202,  0.0194, -0.0050],\n",
            "        ...,\n",
            "        [-0.0208,  0.0168,  0.0210,  ...,  0.0057, -0.0135, -0.0163],\n",
            "        [-0.0179, -0.0166, -0.0124,  ..., -0.0147, -0.0308, -0.0095],\n",
            "        [ 0.0051, -0.0055, -0.0110,  ...,  0.0199,  0.0047,  0.0165]],\n",
            "       device='cuda:0', requires_grad=True)\n",
            "Parameter containing:\n",
            "tensor([ 1.1530e-02, -2.0681e-02, -1.4290e-02, -2.1143e-02,  1.4815e-02,\n",
            "         2.7360e-02, -3.0820e-02,  2.1147e-02, -1.9204e-02,  3.0834e-02,\n",
            "         9.8184e-03, -2.3530e-02,  2.6642e-02, -2.9894e-02, -2.5738e-02,\n",
            "        -2.1759e-02, -1.0427e-02, -8.7207e-03,  1.0316e-02, -1.9884e-02,\n",
            "        -1.7640e-02, -1.6362e-02, -1.9544e-02,  1.2267e-02, -1.6192e-02,\n",
            "        -3.0902e-03,  3.0302e-02, -4.5999e-03,  8.0086e-03,  9.4476e-03,\n",
            "        -6.0941e-03, -2.3106e-02,  3.6227e-04, -2.8010e-02, -2.2878e-02,\n",
            "        -1.9914e-02,  1.3859e-02, -1.7349e-02, -1.2949e-02, -3.9545e-03,\n",
            "         2.2664e-02, -1.5383e-02,  1.4217e-02, -2.2600e-02,  6.2484e-05,\n",
            "         1.7458e-02, -2.3336e-02,  1.3787e-02, -3.7439e-03,  5.8206e-03,\n",
            "        -3.9798e-04,  3.1511e-03, -4.9006e-03, -6.3541e-03,  2.5860e-02,\n",
            "        -6.0318e-03, -1.5838e-02,  1.8163e-02,  2.2599e-02,  2.8009e-02,\n",
            "        -1.4203e-02,  4.4944e-03,  9.6205e-04, -2.5561e-02,  1.6889e-02,\n",
            "        -7.3102e-03, -3.5945e-04,  7.2634e-03, -2.0987e-03,  1.8346e-02,\n",
            "        -1.5110e-02, -1.4613e-02,  2.7669e-02,  2.0951e-02,  2.1675e-02,\n",
            "        -2.0675e-02, -5.4910e-03, -1.1214e-03, -2.2800e-02,  1.5822e-02,\n",
            "        -1.1789e-02, -1.4308e-02,  2.0731e-02,  5.6210e-03,  2.3948e-02,\n",
            "         2.7717e-02, -1.8786e-02,  2.1301e-02, -2.0875e-02,  1.1038e-02,\n",
            "         9.8420e-03, -3.0929e-02,  2.5900e-02, -2.7841e-03,  1.5778e-02,\n",
            "         9.0653e-04, -2.5102e-03,  8.6095e-03,  1.0854e-02, -1.5559e-02,\n",
            "         1.5037e-02, -1.6520e-02,  1.7192e-02, -2.3403e-02, -2.9543e-02,\n",
            "         2.4454e-02, -1.6587e-02,  1.7038e-03,  1.6408e-02, -1.6396e-02,\n",
            "        -1.0169e-02, -1.8138e-02, -2.3630e-03,  2.9501e-03, -6.8325e-03,\n",
            "         2.9537e-02,  1.5527e-02, -1.3370e-02,  1.8420e-02, -4.7182e-03,\n",
            "         3.9289e-04,  1.9029e-02, -2.1096e-03, -4.4091e-03, -1.8816e-02,\n",
            "         1.2989e-02,  6.9711e-03,  2.4822e-02,  3.3542e-03,  5.8512e-03,\n",
            "        -1.0836e-02,  2.3907e-02, -1.1497e-02,  2.4061e-02, -2.4680e-02,\n",
            "        -2.7049e-02,  1.0321e-02, -2.3218e-02, -2.3269e-02,  1.1356e-03,\n",
            "        -1.1785e-03,  1.1605e-02, -2.6342e-02,  2.3299e-02, -2.7252e-02,\n",
            "        -2.8929e-02,  2.9881e-02,  1.8312e-02,  9.0808e-03, -1.4427e-02,\n",
            "         9.7584e-03,  2.4490e-02,  4.6653e-03,  1.8825e-02,  5.7552e-03,\n",
            "         2.5129e-02, -2.9257e-02, -7.4111e-03,  1.4088e-02,  2.7536e-02,\n",
            "        -7.5059e-03, -1.0908e-02, -1.9969e-02, -2.4142e-02, -2.6456e-02,\n",
            "        -1.5787e-03, -2.4560e-02,  1.9374e-03, -1.9458e-02, -3.0228e-03,\n",
            "        -7.7967e-03, -1.1992e-02, -2.7156e-02,  4.9637e-04, -8.4698e-04,\n",
            "         7.7254e-03, -4.1055e-03, -2.6013e-02,  2.8600e-02,  1.3608e-02,\n",
            "         1.4868e-02, -2.1385e-02, -1.4157e-02,  2.3031e-02, -6.0951e-03,\n",
            "        -1.5265e-02, -1.6172e-03,  1.1285e-02, -3.1223e-02,  2.9427e-02,\n",
            "         2.3122e-03, -2.4226e-02, -1.3966e-02,  2.4571e-02,  2.8552e-02,\n",
            "        -1.9349e-02,  1.8608e-02,  6.1667e-04,  5.6902e-03, -2.0621e-02,\n",
            "        -1.1532e-02,  2.6907e-02, -6.6030e-03,  2.9070e-02,  2.5393e-02,\n",
            "        -5.5361e-04,  1.1011e-02, -2.0718e-02,  9.8287e-03,  4.9548e-03,\n",
            "         2.5796e-02, -1.7518e-02, -6.3671e-03,  2.4528e-02, -1.0989e-02,\n",
            "         4.2287e-03,  8.1343e-03,  2.8914e-02, -2.6311e-02, -1.2334e-02,\n",
            "        -2.9740e-02, -1.0339e-02, -2.8900e-02,  1.4890e-02, -2.3682e-02,\n",
            "        -4.6360e-03,  2.2512e-02, -2.9099e-02,  6.2443e-03, -1.5089e-02,\n",
            "         2.0505e-02, -1.8993e-02, -2.2915e-02, -1.4403e-03,  1.3386e-02,\n",
            "         1.0816e-02, -3.1104e-02, -5.8806e-03, -2.8668e-02,  1.7583e-02,\n",
            "        -1.7145e-02,  1.0803e-02, -1.0910e-03, -3.0939e-02, -2.7172e-02,\n",
            "        -1.9116e-02,  2.7526e-02,  1.1530e-02,  3.0741e-02, -2.8738e-02,\n",
            "         1.1739e-02,  1.0388e-02,  3.4207e-03, -8.5282e-03,  2.0576e-02,\n",
            "         2.3899e-03, -1.2412e-02,  1.4874e-02, -2.0693e-02,  1.3409e-02,\n",
            "        -1.6224e-02, -3.0179e-02, -6.3017e-03,  2.0135e-02,  2.0178e-02,\n",
            "        -1.4530e-02,  9.0730e-03, -2.4186e-02, -2.6538e-02, -1.7338e-02,\n",
            "        -2.8978e-02, -2.0386e-02,  3.1154e-03, -1.2889e-02,  1.1157e-02,\n",
            "         2.7353e-03,  9.9040e-03,  5.6645e-03, -1.4734e-02,  8.0287e-03,\n",
            "        -2.9819e-02,  2.9836e-02,  1.6947e-02, -1.2841e-02,  9.2240e-03,\n",
            "        -9.4875e-03, -2.2969e-02, -2.4307e-02, -7.1145e-03, -1.2265e-02,\n",
            "        -1.5754e-02, -6.5535e-04,  4.0600e-03,  1.7892e-02, -1.9816e-02,\n",
            "        -1.3067e-02,  2.4448e-02, -2.2291e-02, -3.1131e-02,  1.0366e-02,\n",
            "        -3.0736e-02,  7.0722e-03, -1.6484e-02,  3.4849e-03, -4.0797e-03,\n",
            "        -1.3575e-02,  9.4098e-03,  2.4799e-02,  3.1214e-02,  4.9461e-05,\n",
            "         2.6013e-02, -3.1154e-02,  2.4739e-02, -3.0934e-02,  1.7656e-02,\n",
            "         1.0568e-02,  1.6980e-03,  2.6729e-02, -2.1837e-02, -8.3550e-03,\n",
            "        -1.6811e-02, -1.7325e-02, -2.9771e-02,  2.8104e-02, -2.6948e-03,\n",
            "        -7.6365e-03, -7.3444e-03, -4.1716e-03, -2.8767e-02,  1.5149e-02,\n",
            "        -2.9056e-02,  1.1127e-02, -1.7720e-02, -2.8102e-02,  1.6734e-02,\n",
            "        -1.7986e-02,  1.2806e-02, -7.2806e-04,  1.2315e-02,  1.3412e-02,\n",
            "         2.0457e-03, -1.3181e-02, -1.6782e-02, -2.2327e-02, -5.9317e-03,\n",
            "         1.4301e-02,  4.5293e-03, -1.8124e-02, -4.9598e-03,  1.4875e-02,\n",
            "         1.0048e-02, -1.5003e-02, -1.5204e-02, -2.7279e-02,  1.6759e-02,\n",
            "         8.1379e-03, -6.4405e-04, -5.3419e-04, -3.0310e-02,  1.0213e-02,\n",
            "        -1.7511e-02, -4.3353e-03, -1.6946e-02,  1.0734e-02, -2.5290e-02,\n",
            "         4.8365e-03,  3.0666e-02,  1.5133e-02, -1.9487e-02, -2.9311e-02,\n",
            "        -6.1783e-03,  1.1002e-02,  1.5295e-02, -2.7724e-02,  2.5997e-03,\n",
            "        -9.9501e-03,  1.6015e-02,  8.8671e-03,  1.8677e-02,  2.0439e-02,\n",
            "         1.2543e-02,  1.4736e-02, -1.5181e-02,  1.7486e-02, -2.9182e-02,\n",
            "         1.1277e-02, -9.9139e-03, -2.4639e-02,  2.0746e-02,  2.5169e-02,\n",
            "        -1.3149e-02,  5.7445e-03, -2.2518e-02, -1.0985e-02, -9.5486e-03,\n",
            "         1.4670e-02,  6.6070e-03,  1.5573e-02, -3.1843e-03,  3.1215e-02,\n",
            "        -3.0540e-03,  1.8549e-02, -1.7212e-02, -9.5202e-03,  1.9899e-02,\n",
            "         1.1606e-02,  1.0782e-02,  1.9219e-02, -6.4176e-03, -2.7944e-02,\n",
            "        -1.1644e-02, -1.4073e-02,  5.0675e-03, -8.5918e-03, -2.2558e-03,\n",
            "        -3.1382e-03, -2.5761e-02, -3.0818e-03, -1.0289e-03,  7.5301e-03,\n",
            "         2.0303e-02, -2.6419e-02, -1.5352e-02, -1.5828e-02,  8.4658e-03,\n",
            "         1.1116e-02,  3.3852e-03, -1.6080e-02,  3.0965e-02,  3.6469e-04,\n",
            "         2.3388e-02,  1.4258e-02,  6.3801e-03, -1.6149e-02,  1.7383e-02,\n",
            "        -9.6643e-03,  1.2545e-02,  1.8175e-02, -3.9216e-03,  2.6076e-02,\n",
            "        -1.3685e-02, -2.7480e-02, -2.0920e-02,  2.0512e-02,  2.3472e-02,\n",
            "        -1.4900e-02,  1.2887e-02,  2.8227e-02, -1.1859e-02, -1.4673e-02,\n",
            "         2.2608e-02,  5.6697e-03,  2.0417e-02,  2.3240e-02, -2.5594e-02,\n",
            "        -2.4559e-02, -2.2513e-02, -9.1281e-03, -2.0201e-02,  1.9655e-02,\n",
            "         5.7761e-03,  4.4149e-03, -9.3737e-04,  4.9946e-03, -1.9604e-02,\n",
            "        -3.5519e-03, -1.9916e-02,  2.8179e-02,  2.7967e-02, -2.9140e-02,\n",
            "         2.0801e-02, -1.1047e-03,  5.7555e-03,  2.6344e-02,  1.9661e-02,\n",
            "        -4.5667e-03,  1.6126e-02, -8.7747e-03,  3.5316e-03, -2.6605e-02,\n",
            "        -8.2528e-03, -4.2878e-03,  2.8338e-02,  2.8848e-02,  1.0248e-02,\n",
            "         8.3630e-03,  5.6231e-03, -2.8530e-02, -1.4525e-03,  1.2836e-04,\n",
            "        -2.1777e-02, -1.8529e-03, -2.9468e-02,  1.7596e-02, -2.5273e-02,\n",
            "        -2.4156e-02, -6.2277e-03,  8.4551e-04, -2.6580e-02,  2.6078e-02,\n",
            "         8.3302e-03,  3.1123e-02, -3.3746e-03, -1.1064e-02, -3.0880e-02,\n",
            "         3.5489e-03, -2.5181e-02,  9.9145e-03,  1.2135e-02,  1.1667e-02,\n",
            "         1.6625e-02, -1.5002e-02], device='cuda:0', requires_grad=True)\n",
            "Parameter containing:\n",
            "tensor([1., 1., 1., 1., 1., 1., 1., 1., 1., 1., 1., 1., 1., 1., 1., 1., 1., 1.,\n",
            "        1., 1., 1., 1., 1., 1., 1., 1., 1., 1., 1., 1., 1., 1., 1., 1., 1., 1.,\n",
            "        1., 1., 1., 1., 1., 1., 1., 1., 1., 1., 1., 1., 1., 1., 1., 1., 1., 1.,\n",
            "        1., 1., 1., 1., 1., 1., 1., 1., 1., 1., 1., 1., 1., 1., 1., 1., 1., 1.,\n",
            "        1., 1., 1., 1., 1., 1., 1., 1., 1., 1., 1., 1., 1., 1., 1., 1., 1., 1.,\n",
            "        1., 1., 1., 1., 1., 1., 1., 1., 1., 1., 1., 1., 1., 1., 1., 1., 1., 1.,\n",
            "        1., 1., 1., 1., 1., 1., 1., 1., 1., 1., 1., 1., 1., 1., 1., 1., 1., 1.,\n",
            "        1., 1., 1., 1., 1., 1., 1., 1., 1., 1., 1., 1., 1., 1., 1., 1., 1., 1.,\n",
            "        1., 1., 1., 1., 1., 1., 1., 1., 1., 1., 1., 1., 1., 1., 1., 1., 1., 1.,\n",
            "        1., 1., 1., 1., 1., 1., 1., 1., 1., 1., 1., 1., 1., 1., 1., 1., 1., 1.,\n",
            "        1., 1., 1., 1., 1., 1., 1., 1., 1., 1., 1., 1., 1., 1., 1., 1., 1., 1.,\n",
            "        1., 1., 1., 1., 1., 1., 1., 1., 1., 1., 1., 1., 1., 1., 1., 1., 1., 1.,\n",
            "        1., 1., 1., 1., 1., 1., 1., 1., 1., 1., 1., 1., 1., 1., 1., 1., 1., 1.,\n",
            "        1., 1., 1., 1., 1., 1., 1., 1., 1., 1., 1., 1., 1., 1., 1., 1., 1., 1.,\n",
            "        1., 1., 1., 1., 1., 1., 1., 1., 1., 1., 1., 1., 1., 1., 1., 1., 1., 1.,\n",
            "        1., 1., 1., 1., 1., 1., 1., 1., 1., 1., 1., 1., 1., 1., 1., 1., 1., 1.,\n",
            "        1., 1., 1., 1., 1., 1., 1., 1., 1., 1., 1., 1., 1., 1., 1., 1., 1., 1.,\n",
            "        1., 1., 1., 1., 1., 1., 1., 1., 1., 1., 1., 1., 1., 1., 1., 1., 1., 1.,\n",
            "        1., 1., 1., 1., 1., 1., 1., 1., 1., 1., 1., 1., 1., 1., 1., 1., 1., 1.,\n",
            "        1., 1., 1., 1., 1., 1., 1., 1., 1., 1., 1., 1., 1., 1., 1., 1., 1., 1.,\n",
            "        1., 1., 1., 1., 1., 1., 1., 1., 1., 1., 1., 1., 1., 1., 1., 1., 1., 1.,\n",
            "        1., 1., 1., 1., 1., 1., 1., 1., 1., 1., 1., 1., 1., 1., 1., 1., 1., 1.,\n",
            "        1., 1., 1., 1., 1., 1., 1., 1., 1., 1., 1., 1., 1., 1., 1., 1., 1., 1.,\n",
            "        1., 1., 1., 1., 1., 1., 1., 1., 1., 1., 1., 1., 1., 1., 1., 1., 1., 1.,\n",
            "        1., 1., 1., 1., 1., 1., 1., 1., 1., 1., 1., 1., 1., 1., 1., 1., 1., 1.,\n",
            "        1., 1., 1., 1., 1., 1., 1., 1., 1., 1., 1., 1., 1., 1., 1., 1., 1., 1.,\n",
            "        1., 1., 1., 1., 1., 1., 1., 1., 1., 1., 1., 1., 1., 1., 1., 1., 1., 1.,\n",
            "        1., 1., 1., 1., 1., 1., 1., 1., 1., 1., 1., 1., 1., 1., 1., 1., 1., 1.,\n",
            "        1., 1., 1., 1., 1., 1., 1., 1.], device='cuda:0', requires_grad=True)\n",
            "Parameter containing:\n",
            "tensor([0., 0., 0., 0., 0., 0., 0., 0., 0., 0., 0., 0., 0., 0., 0., 0., 0., 0., 0., 0., 0., 0., 0., 0.,\n",
            "        0., 0., 0., 0., 0., 0., 0., 0., 0., 0., 0., 0., 0., 0., 0., 0., 0., 0., 0., 0., 0., 0., 0., 0.,\n",
            "        0., 0., 0., 0., 0., 0., 0., 0., 0., 0., 0., 0., 0., 0., 0., 0., 0., 0., 0., 0., 0., 0., 0., 0.,\n",
            "        0., 0., 0., 0., 0., 0., 0., 0., 0., 0., 0., 0., 0., 0., 0., 0., 0., 0., 0., 0., 0., 0., 0., 0.,\n",
            "        0., 0., 0., 0., 0., 0., 0., 0., 0., 0., 0., 0., 0., 0., 0., 0., 0., 0., 0., 0., 0., 0., 0., 0.,\n",
            "        0., 0., 0., 0., 0., 0., 0., 0., 0., 0., 0., 0., 0., 0., 0., 0., 0., 0., 0., 0., 0., 0., 0., 0.,\n",
            "        0., 0., 0., 0., 0., 0., 0., 0., 0., 0., 0., 0., 0., 0., 0., 0., 0., 0., 0., 0., 0., 0., 0., 0.,\n",
            "        0., 0., 0., 0., 0., 0., 0., 0., 0., 0., 0., 0., 0., 0., 0., 0., 0., 0., 0., 0., 0., 0., 0., 0.,\n",
            "        0., 0., 0., 0., 0., 0., 0., 0., 0., 0., 0., 0., 0., 0., 0., 0., 0., 0., 0., 0., 0., 0., 0., 0.,\n",
            "        0., 0., 0., 0., 0., 0., 0., 0., 0., 0., 0., 0., 0., 0., 0., 0., 0., 0., 0., 0., 0., 0., 0., 0.,\n",
            "        0., 0., 0., 0., 0., 0., 0., 0., 0., 0., 0., 0., 0., 0., 0., 0., 0., 0., 0., 0., 0., 0., 0., 0.,\n",
            "        0., 0., 0., 0., 0., 0., 0., 0., 0., 0., 0., 0., 0., 0., 0., 0., 0., 0., 0., 0., 0., 0., 0., 0.,\n",
            "        0., 0., 0., 0., 0., 0., 0., 0., 0., 0., 0., 0., 0., 0., 0., 0., 0., 0., 0., 0., 0., 0., 0., 0.,\n",
            "        0., 0., 0., 0., 0., 0., 0., 0., 0., 0., 0., 0., 0., 0., 0., 0., 0., 0., 0., 0., 0., 0., 0., 0.,\n",
            "        0., 0., 0., 0., 0., 0., 0., 0., 0., 0., 0., 0., 0., 0., 0., 0., 0., 0., 0., 0., 0., 0., 0., 0.,\n",
            "        0., 0., 0., 0., 0., 0., 0., 0., 0., 0., 0., 0., 0., 0., 0., 0., 0., 0., 0., 0., 0., 0., 0., 0.,\n",
            "        0., 0., 0., 0., 0., 0., 0., 0., 0., 0., 0., 0., 0., 0., 0., 0., 0., 0., 0., 0., 0., 0., 0., 0.,\n",
            "        0., 0., 0., 0., 0., 0., 0., 0., 0., 0., 0., 0., 0., 0., 0., 0., 0., 0., 0., 0., 0., 0., 0., 0.,\n",
            "        0., 0., 0., 0., 0., 0., 0., 0., 0., 0., 0., 0., 0., 0., 0., 0., 0., 0., 0., 0., 0., 0., 0., 0.,\n",
            "        0., 0., 0., 0., 0., 0., 0., 0., 0., 0., 0., 0., 0., 0., 0., 0., 0., 0., 0., 0., 0., 0., 0., 0.,\n",
            "        0., 0., 0., 0., 0., 0., 0., 0., 0., 0., 0., 0., 0., 0., 0., 0., 0., 0., 0., 0., 0., 0., 0., 0.,\n",
            "        0., 0., 0., 0., 0., 0., 0., 0.], device='cuda:0', requires_grad=True)\n",
            "Parameter containing:\n",
            "tensor([[ 3.6392e-02, -2.6485e-02,  1.3248e-02,  ..., -3.1462e-02,\n",
            "          1.3151e-02, -3.0607e-02],\n",
            "        [-4.2233e-02, -2.3772e-03, -3.1462e-02,  ..., -5.6262e-03,\n",
            "          1.1316e-02, -3.0595e-03],\n",
            "        [ 4.2754e-03,  2.9980e-02,  3.1346e-02,  ...,  1.6534e-02,\n",
            "         -3.6613e-02,  2.4171e-02],\n",
            "        ...,\n",
            "        [ 1.9115e-02,  8.9771e-03,  2.4968e-02,  ..., -4.3231e-02,\n",
            "          1.2247e-02, -3.8281e-02],\n",
            "        [-3.4298e-02, -3.8854e-03,  2.1687e-02,  ...,  1.7668e-02,\n",
            "         -1.4586e-02,  1.4227e-02],\n",
            "        [ 5.3368e-06, -4.3243e-02,  1.8743e-02,  ...,  1.8232e-02,\n",
            "         -2.3297e-02, -7.7590e-03]], device='cuda:0', requires_grad=True)\n",
            "Parameter containing:\n",
            "tensor([-0.0388,  0.0351, -0.0379, -0.0007,  0.0074, -0.0299,  0.0051,  0.0421,\n",
            "        -0.0113,  0.0081,  0.0426,  0.0408,  0.0017,  0.0364, -0.0024, -0.0213,\n",
            "        -0.0379,  0.0263, -0.0004,  0.0088,  0.0193,  0.0439,  0.0406, -0.0288,\n",
            "        -0.0100,  0.0250, -0.0075, -0.0005,  0.0277, -0.0215,  0.0331,  0.0321,\n",
            "        -0.0313, -0.0396, -0.0432, -0.0405, -0.0201,  0.0233, -0.0185, -0.0021,\n",
            "        -0.0109, -0.0228, -0.0192, -0.0316,  0.0226,  0.0079,  0.0057, -0.0421,\n",
            "        -0.0130,  0.0047, -0.0241, -0.0084, -0.0124, -0.0134,  0.0008, -0.0085,\n",
            "         0.0414, -0.0201, -0.0299,  0.0043,  0.0022, -0.0200,  0.0335,  0.0367,\n",
            "        -0.0402, -0.0113, -0.0140,  0.0381,  0.0247, -0.0365, -0.0374,  0.0201,\n",
            "        -0.0284, -0.0321,  0.0210,  0.0091, -0.0097,  0.0313, -0.0210, -0.0250,\n",
            "         0.0157, -0.0134,  0.0355,  0.0066,  0.0431,  0.0031,  0.0425,  0.0426,\n",
            "         0.0330,  0.0260,  0.0215, -0.0159, -0.0231,  0.0176,  0.0001, -0.0114,\n",
            "        -0.0408, -0.0067,  0.0364,  0.0220, -0.0021, -0.0356, -0.0027, -0.0229,\n",
            "        -0.0075,  0.0300,  0.0164, -0.0368,  0.0419, -0.0398, -0.0421,  0.0292,\n",
            "         0.0379,  0.0006,  0.0225,  0.0357,  0.0150, -0.0234, -0.0076, -0.0202,\n",
            "         0.0296, -0.0029, -0.0263,  0.0140, -0.0214,  0.0031,  0.0247,  0.0293,\n",
            "         0.0002, -0.0183, -0.0327, -0.0260, -0.0207,  0.0194,  0.0233,  0.0048,\n",
            "         0.0331,  0.0128, -0.0262, -0.0135,  0.0429,  0.0159,  0.0158,  0.0294,\n",
            "         0.0292, -0.0327, -0.0037, -0.0142,  0.0139, -0.0254,  0.0121,  0.0015,\n",
            "         0.0423,  0.0096, -0.0129, -0.0124,  0.0297,  0.0424,  0.0256,  0.0345,\n",
            "         0.0392,  0.0336,  0.0068, -0.0327,  0.0251, -0.0415,  0.0033,  0.0399,\n",
            "        -0.0406,  0.0107, -0.0101,  0.0143, -0.0122,  0.0425, -0.0268, -0.0054,\n",
            "        -0.0015,  0.0202,  0.0174,  0.0005,  0.0359, -0.0057,  0.0097,  0.0243,\n",
            "        -0.0126, -0.0330, -0.0228, -0.0110, -0.0301,  0.0122,  0.0042,  0.0201,\n",
            "         0.0201,  0.0264,  0.0040, -0.0008,  0.0080,  0.0025,  0.0399, -0.0217,\n",
            "        -0.0047,  0.0324,  0.0218,  0.0371,  0.0161,  0.0178,  0.0103, -0.0150,\n",
            "        -0.0376,  0.0040,  0.0242,  0.0096, -0.0323, -0.0190,  0.0125,  0.0246,\n",
            "         0.0247,  0.0317,  0.0274, -0.0379, -0.0091,  0.0430, -0.0195, -0.0035,\n",
            "         0.0201,  0.0249,  0.0187,  0.0173, -0.0086, -0.0019,  0.0199,  0.0082,\n",
            "         0.0079, -0.0245,  0.0333, -0.0193, -0.0354, -0.0037,  0.0213,  0.0077,\n",
            "        -0.0056, -0.0325, -0.0010, -0.0399,  0.0288, -0.0372, -0.0183,  0.0425,\n",
            "        -0.0081,  0.0068, -0.0129, -0.0203,  0.0217,  0.0177,  0.0399, -0.0351],\n",
            "       device='cuda:0', requires_grad=True)\n",
            "Parameter containing:\n",
            "tensor([1., 1., 1., 1., 1., 1., 1., 1., 1., 1., 1., 1., 1., 1., 1., 1., 1., 1.,\n",
            "        1., 1., 1., 1., 1., 1., 1., 1., 1., 1., 1., 1., 1., 1., 1., 1., 1., 1.,\n",
            "        1., 1., 1., 1., 1., 1., 1., 1., 1., 1., 1., 1., 1., 1., 1., 1., 1., 1.,\n",
            "        1., 1., 1., 1., 1., 1., 1., 1., 1., 1., 1., 1., 1., 1., 1., 1., 1., 1.,\n",
            "        1., 1., 1., 1., 1., 1., 1., 1., 1., 1., 1., 1., 1., 1., 1., 1., 1., 1.,\n",
            "        1., 1., 1., 1., 1., 1., 1., 1., 1., 1., 1., 1., 1., 1., 1., 1., 1., 1.,\n",
            "        1., 1., 1., 1., 1., 1., 1., 1., 1., 1., 1., 1., 1., 1., 1., 1., 1., 1.,\n",
            "        1., 1., 1., 1., 1., 1., 1., 1., 1., 1., 1., 1., 1., 1., 1., 1., 1., 1.,\n",
            "        1., 1., 1., 1., 1., 1., 1., 1., 1., 1., 1., 1., 1., 1., 1., 1., 1., 1.,\n",
            "        1., 1., 1., 1., 1., 1., 1., 1., 1., 1., 1., 1., 1., 1., 1., 1., 1., 1.,\n",
            "        1., 1., 1., 1., 1., 1., 1., 1., 1., 1., 1., 1., 1., 1., 1., 1., 1., 1.,\n",
            "        1., 1., 1., 1., 1., 1., 1., 1., 1., 1., 1., 1., 1., 1., 1., 1., 1., 1.,\n",
            "        1., 1., 1., 1., 1., 1., 1., 1., 1., 1., 1., 1., 1., 1., 1., 1., 1., 1.,\n",
            "        1., 1., 1., 1., 1., 1., 1., 1., 1., 1., 1., 1., 1., 1., 1., 1., 1., 1.,\n",
            "        1., 1., 1., 1.], device='cuda:0', requires_grad=True)\n",
            "Parameter containing:\n",
            "tensor([0., 0., 0., 0., 0., 0., 0., 0., 0., 0., 0., 0., 0., 0., 0., 0., 0., 0., 0., 0., 0., 0., 0., 0.,\n",
            "        0., 0., 0., 0., 0., 0., 0., 0., 0., 0., 0., 0., 0., 0., 0., 0., 0., 0., 0., 0., 0., 0., 0., 0.,\n",
            "        0., 0., 0., 0., 0., 0., 0., 0., 0., 0., 0., 0., 0., 0., 0., 0., 0., 0., 0., 0., 0., 0., 0., 0.,\n",
            "        0., 0., 0., 0., 0., 0., 0., 0., 0., 0., 0., 0., 0., 0., 0., 0., 0., 0., 0., 0., 0., 0., 0., 0.,\n",
            "        0., 0., 0., 0., 0., 0., 0., 0., 0., 0., 0., 0., 0., 0., 0., 0., 0., 0., 0., 0., 0., 0., 0., 0.,\n",
            "        0., 0., 0., 0., 0., 0., 0., 0., 0., 0., 0., 0., 0., 0., 0., 0., 0., 0., 0., 0., 0., 0., 0., 0.,\n",
            "        0., 0., 0., 0., 0., 0., 0., 0., 0., 0., 0., 0., 0., 0., 0., 0., 0., 0., 0., 0., 0., 0., 0., 0.,\n",
            "        0., 0., 0., 0., 0., 0., 0., 0., 0., 0., 0., 0., 0., 0., 0., 0., 0., 0., 0., 0., 0., 0., 0., 0.,\n",
            "        0., 0., 0., 0., 0., 0., 0., 0., 0., 0., 0., 0., 0., 0., 0., 0., 0., 0., 0., 0., 0., 0., 0., 0.,\n",
            "        0., 0., 0., 0., 0., 0., 0., 0., 0., 0., 0., 0., 0., 0., 0., 0., 0., 0., 0., 0., 0., 0., 0., 0.,\n",
            "        0., 0., 0., 0., 0., 0., 0., 0., 0., 0., 0., 0., 0., 0., 0., 0.],\n",
            "       device='cuda:0', requires_grad=True)\n",
            "Parameter containing:\n",
            "tensor([[ 0.0379,  0.0436,  0.0348,  ..., -0.0513, -0.0438,  0.0549],\n",
            "        [-0.0200, -0.0559, -0.0344,  ..., -0.0281,  0.0372,  0.0171],\n",
            "        [ 0.0221, -0.0282,  0.0546,  ..., -0.0275,  0.0003,  0.0485],\n",
            "        ...,\n",
            "        [ 0.0163, -0.0303,  0.0426,  ...,  0.0166,  0.0378,  0.0490],\n",
            "        [ 0.0451, -0.0214, -0.0065,  ...,  0.0127, -0.0151,  0.0548],\n",
            "        [ 0.0442, -0.0531, -0.0128,  ..., -0.0432,  0.0173,  0.0216]],\n",
            "       device='cuda:0', requires_grad=True)\n",
            "Parameter containing:\n",
            "tensor([-0.0066,  0.0529, -0.0352,  0.0056, -0.0239, -0.0139,  0.0272,  0.0479,\n",
            "        -0.0437,  0.0354], device='cuda:0', requires_grad=True)\n"
          ]
        }
      ]
    },
    {
      "cell_type": "code",
      "source": [
        "def count_param1(model):\n",
        "  cnt = 0\n",
        "  for p in list(model.parameters()):    # p.size() <- torch.size([128,3,3,3]) 이런 꼴이니까 전부 다 곱하면 parameter 숫자 나옴\n",
        "    cnt += torch.prod(torch.tensor(p.size()))  \n",
        "  return cnt\n",
        "\n",
        "count_param1(model)"
      ],
      "metadata": {
        "colab": {
          "base_uri": "https://localhost:8080/"
        },
        "id": "WZYyYswj-RTG",
        "outputId": "71496e1f-58fd-41b9-d842-5afd0a3dc40e"
      },
      "execution_count": 69,
      "outputs": [
        {
          "output_type": "execute_result",
          "data": {
            "text/plain": [
              "tensor(9058058)"
            ]
          },
          "metadata": {},
          "execution_count": 69
        }
      ]
    },
    {
      "cell_type": "code",
      "source": [
        "#plot 기능을 위한 list 정의\n",
        "list_train_loss=[]\n",
        "list_train_accuracy=[]\n",
        "\n",
        "# 학습과 테스트 함수 정의\n",
        "def train(epoch):\n",
        "    model.train()\n",
        "    correct = 0\n",
        "\n",
        "    for batch_idx, (data, target) in enumerate(train_loader):\n",
        "        data, target = data.to(device), target.to(device)\n",
        "        optimizer.zero_grad()\n",
        "        outputs = model(data)\n",
        "\n",
        "        loss = criterion(outputs, target)\n",
        "        \n",
        "        loss.backward()\n",
        "\n",
        "        optimizer.step()\n",
        "\n",
        "        if batch_idx %100 == 0:\n",
        "           print(f'train epoch {epoch} | loss {loss.item()} | batch status {batch_idx}/{len(train_loader)}')\n",
        "\n",
        "        idx = outputs.argmax(1, keepdim=True)      # (n,1) 크기  <- target텐서의 크기 (n)과 다르다\n",
        "        idx = idx.squeeze()     # 1인 차원 제거 -> (n) 크기 \n",
        "\n",
        "        correct += (target == idx).sum()\n",
        "\n",
        "    list_train_loss.append(loss.item())\n",
        "    list_train_accuracy.append(correct.cpu().numpy()/len(train_loader.dataset))\n",
        "    "
      ],
      "metadata": {
        "id": "hFVmMWN696Hn"
      },
      "execution_count": 70,
      "outputs": []
    },
    {
      "cell_type": "code",
      "source": [
        "list_test_loss=[]\n",
        "list_test_accuracy=[]\n",
        "\n",
        "def test():\n",
        "    model.eval()\n",
        "    test_loss = 0\n",
        "    correct = 0\n",
        "\n",
        "    for data, target in test_loader:\n",
        "        data, target = data.to(device), target.to(device)\n",
        "        outputs = model(data)\n",
        "\n",
        "         # loss 계산\n",
        "        test_loss += criterion(outputs, target).item()   # .item() :  텐서에서 값만 가져옴\n",
        "\n",
        "        idx = outputs.argmax(1, keepdim=True)      # (n,1) 크기  <- target텐서의 크기 (n)과 다르다\n",
        "        idx = idx.squeeze()     # 1인 차원 제거 -> (n) 크기 \n",
        "\n",
        "        correct += (target == idx).sum()\n",
        "\n",
        "    list_test_accuracy.append(correct.cpu().numpy() /len(test_loader.dataset))\n",
        "    \n",
        "    test_loss /= len(test_loader.dataset)\n",
        "    list_test_loss.append(test_loss)\n",
        "\n",
        "    print(f'Average loss = {test_loss},   Accuracy = {correct}/{len(test_loader.dataset)}')\n"
      ],
      "metadata": {
        "id": "rM0ji5f9-CXI"
      },
      "execution_count": 71,
      "outputs": []
    },
    {
      "cell_type": "code",
      "source": [
        "import time\n",
        "\n",
        "#epoch 수 지정\n",
        "num_epoch = 30\n",
        "\n",
        "if __name__ == '__main__':\n",
        " \n",
        "  since = time.time()\n",
        "  for epoch in range(1, num_epoch+1):\n",
        "    epoch_start = time.time()\n",
        "    train(epoch)\n",
        "    m, s = divmod(time.time() - epoch_start, 60)\n",
        "    print(f'Training time: {m:.0f}m {s:.0f}s')\n",
        "    \n",
        "    test()\n",
        "    m, s = divmod(time.time() - epoch_start, 60)\n",
        "    print(f'Tesing time: {m:.0f}m {s:.0f}s')\n",
        "\n",
        "  m, s = divmod(time.time() - since, 60)\n",
        "  print(f'Total time : {m:.0f}m {s: .0f}s \\nModel was trained on {device}!')"
      ],
      "metadata": {
        "colab": {
          "base_uri": "https://localhost:8080/"
        },
        "id": "piaFUbK4-KPs",
        "outputId": "3cd70c71-209b-4c06-be5d-785961cb104a"
      },
      "execution_count": 72,
      "outputs": [
        {
          "output_type": "stream",
          "name": "stdout",
          "text": [
            "train epoch 1 | loss 2.507378578186035 | batch status 0/391\n",
            "train epoch 1 | loss 1.6494791507720947 | batch status 100/391\n",
            "train epoch 1 | loss 1.648226261138916 | batch status 200/391\n",
            "train epoch 1 | loss 1.4303765296936035 | batch status 300/391\n",
            "Training time: 0m 14s\n",
            "Average loss = 0.011513524079322815,   Accuracy = 4770/10000\n",
            "Tesing time: 0m 16s\n",
            "train epoch 2 | loss 1.388053059577942 | batch status 0/391\n",
            "train epoch 2 | loss 1.558472990989685 | batch status 100/391\n",
            "train epoch 2 | loss 1.3462408781051636 | batch status 200/391\n",
            "train epoch 2 | loss 1.5144686698913574 | batch status 300/391\n",
            "Training time: 0m 18s\n",
            "Average loss = 0.010995713019371033,   Accuracy = 5072/10000\n",
            "Tesing time: 0m 22s\n",
            "train epoch 3 | loss 1.5169352293014526 | batch status 0/391\n",
            "train epoch 3 | loss 1.5010873079299927 | batch status 100/391\n",
            "train epoch 3 | loss 1.3537720441818237 | batch status 200/391\n",
            "train epoch 3 | loss 1.288991093635559 | batch status 300/391\n",
            "Training time: 0m 14s\n",
            "Average loss = 0.010457191848754883,   Accuracy = 5175/10000\n",
            "Tesing time: 0m 16s\n",
            "train epoch 4 | loss 1.1809427738189697 | batch status 0/391\n",
            "train epoch 4 | loss 1.274560570716858 | batch status 100/391\n",
            "train epoch 4 | loss 1.3469423055648804 | batch status 200/391\n",
            "train epoch 4 | loss 1.2760498523712158 | batch status 300/391\n",
            "Training time: 0m 14s\n",
            "Average loss = 0.01028812198638916,   Accuracy = 5379/10000\n",
            "Tesing time: 0m 16s\n",
            "train epoch 5 | loss 1.1870777606964111 | batch status 0/391\n",
            "train epoch 5 | loss 1.126287579536438 | batch status 100/391\n",
            "train epoch 5 | loss 1.2975839376449585 | batch status 200/391\n",
            "train epoch 5 | loss 1.1589512825012207 | batch status 300/391\n",
            "Training time: 0m 14s\n",
            "Average loss = 0.010308956700563431,   Accuracy = 5380/10000\n",
            "Tesing time: 0m 16s\n",
            "train epoch 6 | loss 1.2620381116867065 | batch status 0/391\n",
            "train epoch 6 | loss 1.0116007328033447 | batch status 100/391\n",
            "train epoch 6 | loss 1.3765089511871338 | batch status 200/391\n",
            "train epoch 6 | loss 1.029510498046875 | batch status 300/391\n",
            "Training time: 0m 14s\n",
            "Average loss = 0.010039300018548965,   Accuracy = 5499/10000\n",
            "Tesing time: 0m 16s\n",
            "train epoch 7 | loss 0.9176650643348694 | batch status 0/391\n",
            "train epoch 7 | loss 1.1639235019683838 | batch status 100/391\n",
            "train epoch 7 | loss 1.3282701969146729 | batch status 200/391\n",
            "train epoch 7 | loss 1.1792776584625244 | batch status 300/391\n",
            "Training time: 0m 14s\n",
            "Average loss = 0.010023994320631027,   Accuracy = 5530/10000\n",
            "Tesing time: 0m 18s\n",
            "train epoch 8 | loss 0.8338155746459961 | batch status 0/391\n",
            "train epoch 8 | loss 1.127333164215088 | batch status 100/391\n",
            "train epoch 8 | loss 1.109022855758667 | batch status 200/391\n",
            "train epoch 8 | loss 1.1138465404510498 | batch status 300/391\n",
            "Training time: 0m 16s\n",
            "Average loss = 0.009822149795293809,   Accuracy = 5619/10000\n",
            "Tesing time: 0m 19s\n",
            "train epoch 9 | loss 0.979816734790802 | batch status 0/391\n",
            "train epoch 9 | loss 0.9996554851531982 | batch status 100/391\n",
            "train epoch 9 | loss 1.1558746099472046 | batch status 200/391\n",
            "train epoch 9 | loss 1.0686619281768799 | batch status 300/391\n",
            "Training time: 0m 14s\n",
            "Average loss = 0.009892101699113845,   Accuracy = 5625/10000\n",
            "Tesing time: 0m 16s\n",
            "train epoch 10 | loss 1.0504070520401 | batch status 0/391\n",
            "train epoch 10 | loss 1.0283080339431763 | batch status 100/391\n",
            "train epoch 10 | loss 0.920716404914856 | batch status 200/391\n",
            "train epoch 10 | loss 1.0345168113708496 | batch status 300/391\n",
            "Training time: 0m 14s\n",
            "Average loss = 0.010192488610744477,   Accuracy = 5558/10000\n",
            "Tesing time: 0m 17s\n",
            "train epoch 11 | loss 0.8714792132377625 | batch status 0/391\n",
            "train epoch 11 | loss 0.9905115365982056 | batch status 100/391\n",
            "train epoch 11 | loss 0.9666764140129089 | batch status 200/391\n",
            "train epoch 11 | loss 0.9009451866149902 | batch status 300/391\n",
            "Training time: 0m 14s\n",
            "Average loss = 0.010120723414421082,   Accuracy = 5580/10000\n",
            "Tesing time: 0m 17s\n",
            "train epoch 12 | loss 0.8077949285507202 | batch status 0/391\n",
            "train epoch 12 | loss 0.9973669648170471 | batch status 100/391\n",
            "train epoch 12 | loss 0.9197447299957275 | batch status 200/391\n",
            "train epoch 12 | loss 0.8419759273529053 | batch status 300/391\n",
            "Training time: 0m 14s\n",
            "Average loss = 0.010106439316272735,   Accuracy = 5680/10000\n",
            "Tesing time: 0m 18s\n",
            "train epoch 13 | loss 0.8921919465065002 | batch status 0/391\n",
            "train epoch 13 | loss 0.7962836027145386 | batch status 100/391\n",
            "train epoch 13 | loss 0.7783130407333374 | batch status 200/391\n",
            "train epoch 13 | loss 0.998066246509552 | batch status 300/391\n",
            "Training time: 0m 15s\n",
            "Average loss = 0.010311111491918564,   Accuracy = 5641/10000\n",
            "Tesing time: 0m 18s\n",
            "train epoch 14 | loss 0.6518247127532959 | batch status 0/391\n",
            "train epoch 14 | loss 0.712117612361908 | batch status 100/391\n",
            "train epoch 14 | loss 0.8306818008422852 | batch status 200/391\n",
            "train epoch 14 | loss 0.826106071472168 | batch status 300/391\n",
            "Training time: 0m 14s\n",
            "Average loss = 0.010130563056468964,   Accuracy = 5734/10000\n",
            "Tesing time: 0m 17s\n",
            "train epoch 15 | loss 0.6993855834007263 | batch status 0/391\n",
            "train epoch 15 | loss 0.7539754509925842 | batch status 100/391\n",
            "train epoch 15 | loss 0.5886110067367554 | batch status 200/391\n",
            "train epoch 15 | loss 0.6970605254173279 | batch status 300/391\n",
            "Training time: 0m 15s\n",
            "Average loss = 0.010180341184139251,   Accuracy = 5746/10000\n",
            "Tesing time: 0m 18s\n",
            "train epoch 16 | loss 0.700782835483551 | batch status 0/391\n",
            "train epoch 16 | loss 0.7725595831871033 | batch status 100/391\n",
            "train epoch 16 | loss 0.7671387791633606 | batch status 200/391\n",
            "train epoch 16 | loss 0.8849419355392456 | batch status 300/391\n",
            "Training time: 0m 14s\n",
            "Average loss = 0.01081963609457016,   Accuracy = 5601/10000\n",
            "Tesing time: 0m 17s\n",
            "train epoch 17 | loss 0.710072934627533 | batch status 0/391\n",
            "train epoch 17 | loss 0.5222108960151672 | batch status 100/391\n",
            "train epoch 17 | loss 0.8102893829345703 | batch status 200/391\n",
            "train epoch 17 | loss 0.8625891804695129 | batch status 300/391\n",
            "Training time: 0m 14s\n",
            "Average loss = 0.010618458539247512,   Accuracy = 5684/10000\n",
            "Tesing time: 0m 16s\n",
            "train epoch 18 | loss 0.6545275449752808 | batch status 0/391\n",
            "train epoch 18 | loss 0.619202196598053 | batch status 100/391\n",
            "train epoch 18 | loss 0.6548683643341064 | batch status 200/391\n",
            "train epoch 18 | loss 0.71479731798172 | batch status 300/391\n",
            "Training time: 0m 14s\n",
            "Average loss = 0.010666064095497132,   Accuracy = 5746/10000\n",
            "Tesing time: 0m 16s\n",
            "train epoch 19 | loss 0.6261208057403564 | batch status 0/391\n",
            "train epoch 19 | loss 0.8876150250434875 | batch status 100/391\n",
            "train epoch 19 | loss 0.5852334499359131 | batch status 200/391\n",
            "train epoch 19 | loss 0.6660809516906738 | batch status 300/391\n",
            "Training time: 0m 14s\n",
            "Average loss = 0.010940227282047271,   Accuracy = 5759/10000\n",
            "Tesing time: 0m 16s\n",
            "train epoch 20 | loss 0.6110084652900696 | batch status 0/391\n",
            "train epoch 20 | loss 0.58930903673172 | batch status 100/391\n",
            "train epoch 20 | loss 0.6890700459480286 | batch status 200/391\n",
            "train epoch 20 | loss 0.7667198181152344 | batch status 300/391\n",
            "Training time: 0m 14s\n",
            "Average loss = 0.010824759709835053,   Accuracy = 5842/10000\n",
            "Tesing time: 0m 16s\n",
            "train epoch 21 | loss 0.3781178295612335 | batch status 0/391\n",
            "train epoch 21 | loss 0.7350254654884338 | batch status 100/391\n",
            "train epoch 21 | loss 0.6753473281860352 | batch status 200/391\n",
            "train epoch 21 | loss 0.6021936535835266 | batch status 300/391\n",
            "Training time: 0m 14s\n",
            "Average loss = 0.011289829516410827,   Accuracy = 5743/10000\n",
            "Tesing time: 0m 17s\n",
            "train epoch 22 | loss 0.484150767326355 | batch status 0/391\n",
            "train epoch 22 | loss 0.5474143624305725 | batch status 100/391\n",
            "train epoch 22 | loss 0.6769704818725586 | batch status 200/391\n",
            "train epoch 22 | loss 0.6296021938323975 | batch status 300/391\n",
            "Training time: 0m 13s\n",
            "Average loss = 0.011305845177173614,   Accuracy = 5735/10000\n",
            "Tesing time: 0m 16s\n",
            "train epoch 23 | loss 0.4680582582950592 | batch status 0/391\n",
            "train epoch 23 | loss 0.45392218232154846 | batch status 100/391\n",
            "train epoch 23 | loss 0.6323807239532471 | batch status 200/391\n",
            "train epoch 23 | loss 0.7585322260856628 | batch status 300/391\n",
            "Training time: 0m 14s\n",
            "Average loss = 0.011571580624580384,   Accuracy = 5772/10000\n",
            "Tesing time: 0m 16s\n",
            "train epoch 24 | loss 0.45603859424591064 | batch status 0/391\n",
            "train epoch 24 | loss 0.4204302430152893 | batch status 100/391\n",
            "train epoch 24 | loss 0.5944619178771973 | batch status 200/391\n",
            "train epoch 24 | loss 0.48197299242019653 | batch status 300/391\n",
            "Training time: 0m 14s\n",
            "Average loss = 0.011456097942590714,   Accuracy = 5789/10000\n",
            "Tesing time: 0m 16s\n",
            "train epoch 25 | loss 0.4290687143802643 | batch status 0/391\n",
            "train epoch 25 | loss 0.3359305262565613 | batch status 100/391\n",
            "train epoch 25 | loss 0.7693437933921814 | batch status 200/391\n",
            "train epoch 25 | loss 0.573603630065918 | batch status 300/391\n",
            "Training time: 0m 14s\n",
            "Average loss = 0.011714197325706482,   Accuracy = 5810/10000\n",
            "Tesing time: 0m 16s\n",
            "train epoch 26 | loss 0.4472678005695343 | batch status 0/391\n",
            "train epoch 26 | loss 0.45140886306762695 | batch status 100/391\n",
            "train epoch 26 | loss 0.44128182530403137 | batch status 200/391\n",
            "train epoch 26 | loss 0.6273186802864075 | batch status 300/391\n",
            "Training time: 0m 14s\n",
            "Average loss = 0.011991295909881591,   Accuracy = 5718/10000\n",
            "Tesing time: 0m 17s\n",
            "train epoch 27 | loss 0.4476652443408966 | batch status 0/391\n",
            "train epoch 27 | loss 0.44690844416618347 | batch status 100/391\n",
            "train epoch 27 | loss 0.5080205202102661 | batch status 200/391\n",
            "train epoch 27 | loss 0.49680399894714355 | batch status 300/391\n",
            "Training time: 0m 14s\n",
            "Average loss = 0.011974652135372162,   Accuracy = 5781/10000\n",
            "Tesing time: 0m 17s\n",
            "train epoch 28 | loss 0.2924509048461914 | batch status 0/391\n",
            "train epoch 28 | loss 0.554584264755249 | batch status 100/391\n",
            "train epoch 28 | loss 0.5530052185058594 | batch status 200/391\n",
            "train epoch 28 | loss 0.4726073145866394 | batch status 300/391\n",
            "Training time: 0m 14s\n",
            "Average loss = 0.012453199219703674,   Accuracy = 5805/10000\n",
            "Tesing time: 0m 16s\n",
            "train epoch 29 | loss 0.43072083592414856 | batch status 0/391\n",
            "train epoch 29 | loss 0.5328567028045654 | batch status 100/391\n",
            "train epoch 29 | loss 0.43702232837677 | batch status 200/391\n",
            "train epoch 29 | loss 0.3924148678779602 | batch status 300/391\n",
            "Training time: 0m 14s\n",
            "Average loss = 0.012239326912164688,   Accuracy = 5790/10000\n",
            "Tesing time: 0m 16s\n",
            "train epoch 30 | loss 0.36732572317123413 | batch status 0/391\n",
            "train epoch 30 | loss 0.4251789450645447 | batch status 100/391\n",
            "train epoch 30 | loss 0.5330002903938293 | batch status 200/391\n",
            "train epoch 30 | loss 0.5009565949440002 | batch status 300/391\n",
            "Training time: 0m 14s\n",
            "Average loss = 0.01261542203426361,   Accuracy = 5827/10000\n",
            "Tesing time: 0m 16s\n",
            "Total time : 8m  26s \n",
            "Model was trained on cuda!\n"
          ]
        }
      ]
    },
    {
      "cell_type": "code",
      "source": [
        "from torchsummary import summary\n",
        "summary(model, (batch_size, 3, 32, 32))"
      ],
      "metadata": {
        "colab": {
          "base_uri": "https://localhost:8080/"
        },
        "id": "iZKahT8Z-Zgg",
        "outputId": "5ee24b1d-7793-428c-a2b6-0c27c54b5afc"
      },
      "execution_count": 73,
      "outputs": [
        {
          "output_type": "stream",
          "name": "stdout",
          "text": [
            "----------------------------------------------------------------\n",
            "        Layer (type)               Output Shape         Param #\n",
            "================================================================\n",
            "            Linear-1                 [-1, 2048]       6,293,504\n",
            "       BatchNorm1d-2                 [-1, 2048]           4,096\n",
            "           Dropout-3                 [-1, 2048]               0\n",
            "            Linear-4                 [-1, 1024]       2,098,176\n",
            "       BatchNorm1d-5                 [-1, 1024]           2,048\n",
            "           Dropout-6                 [-1, 1024]               0\n",
            "            Linear-7                  [-1, 512]         524,800\n",
            "       BatchNorm1d-8                  [-1, 512]           1,024\n",
            "           Dropout-9                  [-1, 512]               0\n",
            "           Linear-10                  [-1, 256]         131,328\n",
            "      BatchNorm1d-11                  [-1, 256]             512\n",
            "          Dropout-12                  [-1, 256]               0\n",
            "           Linear-13                   [-1, 10]           2,570\n",
            "================================================================\n",
            "Total params: 9,058,058\n",
            "Trainable params: 9,058,058\n",
            "Non-trainable params: 0\n",
            "----------------------------------------------------------------\n",
            "Input size (MB): 1.50\n",
            "Forward/backward pass size (MB): 0.09\n",
            "Params size (MB): 34.55\n",
            "Estimated Total Size (MB): 36.14\n",
            "----------------------------------------------------------------\n"
          ]
        }
      ]
    },
    {
      "cell_type": "code",
      "source": [
        "#plot train loss\n",
        "plt.plot(range(1,num_epoch+1), list_train_loss)\n",
        "plt.xlabel('epoch')\n",
        "plt.ylabel('train loss')\n",
        "plt.show()"
      ],
      "metadata": {
        "id": "k7gTVQV660Ok",
        "colab": {
          "base_uri": "https://localhost:8080/",
          "height": 449
        },
        "outputId": "7ef508cd-e220-4c20-da47-0637616e0092"
      },
      "execution_count": 74,
      "outputs": [
        {
          "output_type": "display_data",
          "data": {
            "text/plain": [
              "<Figure size 640x480 with 1 Axes>"
            ],
            "image/png": "[encoded data removed]"
          },
          "metadata": {}
        }
      ]
    },
    {
      "cell_type": "code",
      "source": [
        "# plot test loss\n",
        "plt.plot(range(1,num_epoch+1),list_test_loss)\n",
        "plt.xlabel('epoch')\n",
        "plt.ylabel('test loss')\n",
        "plt.show()"
      ],
      "metadata": {
        "id": "CMG3nKMaP4SG",
        "colab": {
          "base_uri": "https://localhost:8080/",
          "height": 449
        },
        "outputId": "cbf65fcc-426c-4daa-897f-c445dfa3ff23"
      },
      "execution_count": 75,
      "outputs": [
        {
          "output_type": "display_data",
          "data": {
            "text/plain": [
              "<Figure size 640x480 with 1 Axes>"
            ],
            "image/png": "[encoded data removed]"
          },
          "metadata": {}
        }
      ]
    },
    {
      "cell_type": "code",
      "source": [
        "# plot accuracy\n",
        "plt.plot(range(1,num_epoch+1),list_train_accuracy)\n",
        "plt.plot(range(1,num_epoch+1),list_test_accuracy)\n",
        "plt.xlabel('epoch')\n",
        "plt.ylabel('accuracy')\n",
        "plt.legend(['train', 'test'])\n",
        "plt.show()"
      ],
      "metadata": {
        "id": "MJ-r1HzARb-G",
        "colab": {
          "base_uri": "https://localhost:8080/",
          "height": 449
        },
        "outputId": "df952404-f1ef-4ffc-9f43-3988a55d5172"
      },
      "execution_count": 76,
      "outputs": [
        {
          "output_type": "display_data",
          "data": {
            "text/plain": [
              "<Figure size 640x480 with 1 Axes>"
            ],
            "image/png": "[encoded data removed]"
          },
          "metadata": {}
        }
      ]
    }
  ]
}